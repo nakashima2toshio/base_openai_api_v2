{
 "cells": [
  {
   "cell_type": "code",
   "id": "initial_id",
   "metadata": {
    "collapsed": true
   },
   "source": [
    "# How to get Embedding\n",
    "from openai import OpenAI\n",
    "client = OpenAI()\n",
    "\n",
    "response = client.embeddings.create(\n",
    "    input=\"Your text string goes here\",\n",
    "    model=\"text-embedding-3-small\"\n",
    ")\n",
    "\n",
    "print(response.data[0].embedding)"
   ],
   "outputs": [],
   "execution_count": null
  },
  {
   "metadata": {},
   "cell_type": "code",
   "outputs": [],
   "execution_count": null,
   "source": [
    "# \n",
    "from openai import OpenAI\n",
    "client = OpenAI()\n",
    "from pandas import DataFrame as df\n",
    "\n",
    "def get_embedding(text, model=\"text-embedding-3-small\"):\n",
    "   text = text.replace(\"\\n\", \" \")\n",
    "   return client.embeddings.create(input = [text], model=model).data[0].embedding\n",
    "\n",
    "df['ada_embedding'] = df.combined.apply(lambda x: get_embedding(x, model='text-embedding-3-small'))\n",
    "df.to_csv('embedded_1k_reviews.csv', index=False)"
   ],
   "id": "9368996ad817f3aa"
  },
  {
   "metadata": {},
   "cell_type": "code",
   "outputs": [],
   "execution_count": null,
   "source": [
    "import pandas as pd\n",
    "from openai import OpenAI\n",
    "\n",
    "# OpenAIクライアントの初期化\n",
    "client = OpenAI()\n",
    "\n",
    "# ダミーデータフレームの作成（例として）\n",
    "data = {\n",
    "    'combined': [\n",
    "        \"This is the first review.\",\n",
    "        \"This is the second review.\",\n",
    "        \"This is the third review.\"\n",
    "    ]\n",
    "}\n",
    "df = pd.DataFrame(data)\n",
    "\n",
    "# 埋め込みを取得する関数の定義\n",
    "def get_embedding(text, model=\"text-embedding-3-small\"):\n",
    "    text = text.replace(\"\\n\", \" \")\n",
    "    return client.embeddings.create(input=[text], model=model).data[0].embedding\n",
    "\n",
    "# 埋め込みを計算してデータフレームに追加\n",
    "df['ada_embedding'] = df['combined'].apply(lambda x: get_embedding(x, model='text-embedding-3-small'))\n",
    "\n",
    "# CSVファイルに保存\n",
    "df.to_csv('output/embedded_1k_reviews.csv', index=False)\n"
   ],
   "id": "b893604f88f22f6"
  }
 ],
 "metadata": {
  "kernelspec": {
   "display_name": "Python 3",
   "language": "python",
   "name": "python3"
  },
  "language_info": {
   "codemirror_mode": {
    "name": "ipython",
    "version": 2
   },
   "file_extension": ".py",
   "mimetype": "text/x-python",
   "name": "python",
   "nbconvert_exporter": "python",
   "pygments_lexer": "ipython2",
   "version": "2.7.6"
  }
 },
 "nbformat": 4,
 "nbformat_minor": 5
}
