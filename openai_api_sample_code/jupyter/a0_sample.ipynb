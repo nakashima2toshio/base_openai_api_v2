{
 "cells": [
  {
   "metadata": {
    "ExecuteTime": {
     "end_time": "2024-08-29T21:10:08.399637Z",
     "start_time": "2024-08-29T21:10:07.856424Z"
    }
   },
   "cell_type": "code",
   "source": [
    "from openai import OpenAI\n",
    "import pprint\n",
    "\n",
    "\n",
    "client = OpenAI()\n",
    "response = client.files.list()\n",
    "for dt in response.data:\n",
    "    print(f'--------{dt.filename}')\n",
    "    pprint.pprint(dt)\n",
    "\n",
    "    "
   ],
   "id": "87af0c5fe18dd2ed",
   "outputs": [
    {
     "name": "stdout",
     "output_type": "stream",
     "text": [
      "--------paragraph_to_dict.json\n",
      "FileObject(id='file-lkBXFrzgId8daqZP7GIQOhZW', bytes=296440, created_at=1724578834, filename='paragraph_to_dict.json', object='file', purpose='assistants', status='processed', status_details=None)\n",
      "--------python_code.json\n",
      "FileObject(id='file-UWeazgADa0lzRgDRnBCL9Ntu', bytes=52563, created_at=1724578833, filename='python_code.json', object='file', purpose='assistants', status='processed', status_details=None)\n"
     ]
    }
   ],
   "execution_count": 2
  },
  {
   "metadata": {},
   "cell_type": "code",
   "outputs": [],
   "execution_count": null,
   "source": "",
   "id": "b5732ced51aba7e7"
  }
 ],
 "metadata": {
  "kernelspec": {
   "display_name": "Python 3",
   "language": "python",
   "name": "python3"
  },
  "language_info": {
   "codemirror_mode": {
    "name": "ipython",
    "version": 2
   },
   "file_extension": ".py",
   "mimetype": "text/x-python",
   "name": "python",
   "nbconvert_exporter": "python",
   "pygments_lexer": "ipython2",
   "version": "2.7.6"
  }
 },
 "nbformat": 4,
 "nbformat_minor": 5
}
